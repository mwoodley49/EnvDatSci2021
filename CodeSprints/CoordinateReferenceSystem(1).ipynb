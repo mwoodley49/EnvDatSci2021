{
 "cells": [
  {
   "cell_type": "markdown",
   "metadata": {},
   "source": [
    "## Coordinate Reference Systems in Python\n",
    "### Lesson 2. GIS in Python: Intro to Coordinate Reference Systems in Python\n",
    "### by Chris Holdgraf, Leah Wasser\n",
    "### View the full lesson at: https://www.earthdatascience.org/courses/use-data-open-source-python/intro-vector-data-python/spatial-data-vector-shapefiles/intro-to-coordinate-reference-systems-python/"
   ]
  },
  {
   "cell_type": "code",
   "execution_count": 2,
   "metadata": {},
   "outputs": [
    {
     "ename": "ImportError",
     "evalue": "\n\nIMPORTANT: PLEASE READ THIS FOR ADVICE ON HOW TO SOLVE THIS ISSUE!\n\nImporting the numpy C-extensions failed. This error can happen for\nmany reasons, often due to issues with your setup or how NumPy was\ninstalled.\n\nWe have compiled some common reasons and troubleshooting tips at:\n\n    https://numpy.org/devdocs/user/troubleshooting-importerror.html\n\nPlease note and check the following:\n\n  * The Python version is: Python3.7 from \"C:\\Users\\mjwoo\\anaconda3\\envs\\geostats_env\\python.exe\"\n  * The NumPy version is: \"1.19.2\"\n\nand make sure that they are the versions you expect.\nPlease carefully study the documentation linked above for further help.\n\nOriginal error was: DLL load failed: The specified module could not be found.\n",
     "output_type": "error",
     "traceback": [
      "\u001b[1;31m---------------------------------------------------------------------------\u001b[0m",
      "\u001b[1;31mImportError\u001b[0m                               Traceback (most recent call last)",
      "\u001b[1;32m~\\anaconda3\\envs\\geostats_env\\lib\\site-packages\\numpy\\core\\__init__.py\u001b[0m in \u001b[0;36m<module>\u001b[1;34m\u001b[0m\n\u001b[0;32m     21\u001b[0m \u001b[1;32mtry\u001b[0m\u001b[1;33m:\u001b[0m\u001b[1;33m\u001b[0m\u001b[1;33m\u001b[0m\u001b[0m\n\u001b[1;32m---> 22\u001b[1;33m     \u001b[1;32mfrom\u001b[0m \u001b[1;33m.\u001b[0m \u001b[1;32mimport\u001b[0m \u001b[0mmultiarray\u001b[0m\u001b[1;33m\u001b[0m\u001b[1;33m\u001b[0m\u001b[0m\n\u001b[0m\u001b[0;32m     23\u001b[0m \u001b[1;32mexcept\u001b[0m \u001b[0mImportError\u001b[0m \u001b[1;32mas\u001b[0m \u001b[0mexc\u001b[0m\u001b[1;33m:\u001b[0m\u001b[1;33m\u001b[0m\u001b[1;33m\u001b[0m\u001b[0m\n",
      "\u001b[1;32m~\\anaconda3\\envs\\geostats_env\\lib\\site-packages\\numpy\\core\\multiarray.py\u001b[0m in \u001b[0;36m<module>\u001b[1;34m\u001b[0m\n\u001b[0;32m     11\u001b[0m \u001b[1;33m\u001b[0m\u001b[0m\n\u001b[1;32m---> 12\u001b[1;33m \u001b[1;32mfrom\u001b[0m \u001b[1;33m.\u001b[0m \u001b[1;32mimport\u001b[0m \u001b[0moverrides\u001b[0m\u001b[1;33m\u001b[0m\u001b[1;33m\u001b[0m\u001b[0m\n\u001b[0m\u001b[0;32m     13\u001b[0m \u001b[1;32mfrom\u001b[0m \u001b[1;33m.\u001b[0m \u001b[1;32mimport\u001b[0m \u001b[0m_multiarray_umath\u001b[0m\u001b[1;33m\u001b[0m\u001b[1;33m\u001b[0m\u001b[0m\n",
      "\u001b[1;32m~\\anaconda3\\envs\\geostats_env\\lib\\site-packages\\numpy\\core\\overrides.py\u001b[0m in \u001b[0;36m<module>\u001b[1;34m\u001b[0m\n\u001b[0;32m      6\u001b[0m \u001b[1;33m\u001b[0m\u001b[0m\n\u001b[1;32m----> 7\u001b[1;33m from numpy.core._multiarray_umath import (\n\u001b[0m\u001b[0;32m      8\u001b[0m     add_docstring, implement_array_function, _get_implementing_args)\n",
      "\u001b[1;31mImportError\u001b[0m: DLL load failed: The specified module could not be found.",
      "\nDuring handling of the above exception, another exception occurred:\n",
      "\u001b[1;31mImportError\u001b[0m                               Traceback (most recent call last)",
      "\u001b[1;32m~\\AppData\\Local\\Temp/ipykernel_16464/3602925450.py\u001b[0m in \u001b[0;36m<module>\u001b[1;34m\u001b[0m\n\u001b[0;32m      1\u001b[0m \u001b[1;32mimport\u001b[0m \u001b[0mos\u001b[0m\u001b[1;33m\u001b[0m\u001b[1;33m\u001b[0m\u001b[0m\n\u001b[1;32m----> 2\u001b[1;33m \u001b[1;32mimport\u001b[0m \u001b[0mnumpy\u001b[0m \u001b[1;32mas\u001b[0m \u001b[0mnp\u001b[0m\u001b[1;33m\u001b[0m\u001b[1;33m\u001b[0m\u001b[0m\n\u001b[0m\u001b[0;32m      3\u001b[0m \u001b[1;32mimport\u001b[0m \u001b[0mpandas\u001b[0m \u001b[1;32mas\u001b[0m \u001b[0mpd\u001b[0m\u001b[1;33m\u001b[0m\u001b[1;33m\u001b[0m\u001b[0m\n\u001b[0;32m      4\u001b[0m \u001b[1;32mimport\u001b[0m \u001b[0mmatplotlib\u001b[0m\u001b[1;33m.\u001b[0m\u001b[0mpyplot\u001b[0m \u001b[1;32mas\u001b[0m \u001b[0mplt\u001b[0m\u001b[1;33m\u001b[0m\u001b[1;33m\u001b[0m\u001b[0m\n\u001b[0;32m      5\u001b[0m \u001b[1;32mfrom\u001b[0m \u001b[0mmatplotlib\u001b[0m\u001b[1;33m.\u001b[0m\u001b[0mticker\u001b[0m \u001b[1;32mimport\u001b[0m \u001b[0mScalarFormatter\u001b[0m\u001b[1;33m\u001b[0m\u001b[1;33m\u001b[0m\u001b[0m\n",
      "\u001b[1;32m~\\anaconda3\\envs\\geostats_env\\lib\\site-packages\\numpy\\__init__.py\u001b[0m in \u001b[0;36m<module>\u001b[1;34m\u001b[0m\n\u001b[0;32m    138\u001b[0m     \u001b[1;32mfrom\u001b[0m \u001b[1;33m.\u001b[0m \u001b[1;32mimport\u001b[0m \u001b[0m_distributor_init\u001b[0m\u001b[1;33m\u001b[0m\u001b[1;33m\u001b[0m\u001b[0m\n\u001b[0;32m    139\u001b[0m \u001b[1;33m\u001b[0m\u001b[0m\n\u001b[1;32m--> 140\u001b[1;33m     \u001b[1;32mfrom\u001b[0m \u001b[1;33m.\u001b[0m \u001b[1;32mimport\u001b[0m \u001b[0mcore\u001b[0m\u001b[1;33m\u001b[0m\u001b[1;33m\u001b[0m\u001b[0m\n\u001b[0m\u001b[0;32m    141\u001b[0m     \u001b[1;32mfrom\u001b[0m \u001b[1;33m.\u001b[0m\u001b[0mcore\u001b[0m \u001b[1;32mimport\u001b[0m \u001b[1;33m*\u001b[0m\u001b[1;33m\u001b[0m\u001b[1;33m\u001b[0m\u001b[0m\n\u001b[0;32m    142\u001b[0m     \u001b[1;32mfrom\u001b[0m \u001b[1;33m.\u001b[0m \u001b[1;32mimport\u001b[0m \u001b[0mcompat\u001b[0m\u001b[1;33m\u001b[0m\u001b[1;33m\u001b[0m\u001b[0m\n",
      "\u001b[1;32m~\\anaconda3\\envs\\geostats_env\\lib\\site-packages\\numpy\\core\\__init__.py\u001b[0m in \u001b[0;36m<module>\u001b[1;34m\u001b[0m\n\u001b[0;32m     46\u001b[0m \"\"\" % (sys.version_info[0], sys.version_info[1], sys.executable,\n\u001b[0;32m     47\u001b[0m         __version__, exc)\n\u001b[1;32m---> 48\u001b[1;33m     \u001b[1;32mraise\u001b[0m \u001b[0mImportError\u001b[0m\u001b[1;33m(\u001b[0m\u001b[0mmsg\u001b[0m\u001b[1;33m)\u001b[0m\u001b[1;33m\u001b[0m\u001b[1;33m\u001b[0m\u001b[0m\n\u001b[0m\u001b[0;32m     49\u001b[0m \u001b[1;32mfinally\u001b[0m\u001b[1;33m:\u001b[0m\u001b[1;33m\u001b[0m\u001b[1;33m\u001b[0m\u001b[0m\n\u001b[0;32m     50\u001b[0m     \u001b[1;32mfor\u001b[0m \u001b[0menvkey\u001b[0m \u001b[1;32min\u001b[0m \u001b[0menv_added\u001b[0m\u001b[1;33m:\u001b[0m\u001b[1;33m\u001b[0m\u001b[1;33m\u001b[0m\u001b[0m\n",
      "\u001b[1;31mImportError\u001b[0m: \n\nIMPORTANT: PLEASE READ THIS FOR ADVICE ON HOW TO SOLVE THIS ISSUE!\n\nImporting the numpy C-extensions failed. This error can happen for\nmany reasons, often due to issues with your setup or how NumPy was\ninstalled.\n\nWe have compiled some common reasons and troubleshooting tips at:\n\n    https://numpy.org/devdocs/user/troubleshooting-importerror.html\n\nPlease note and check the following:\n\n  * The Python version is: Python3.7 from \"C:\\Users\\mjwoo\\anaconda3\\envs\\geostats_env\\python.exe\"\n  * The NumPy version is: \"1.19.2\"\n\nand make sure that they are the versions you expect.\nPlease carefully study the documentation linked above for further help.\n\nOriginal error was: DLL load failed: The specified module could not be found.\n"
     ]
    }
   ],
   "source": [
    "import os \n",
    "import numpy as np\n",
    "import pandas as pd\n",
    "import matplotlib.pyplot as plt\n",
    "from matplotlib.ticker import ScalarFormatter\n",
    "import geopandas as gpd\n",
    "import rasterio as rio\n",
    "from rasterio.warp import reproject\n",
    "from shapely.geometry import Point\n",
    "import earthpy as et \n",
    "import earthpy.plot as ep\n",
    "\n",
    "# Set working dir & get data\n",
    "data = et.data.get_data('spatial-vector-lidar')\n",
    "os.chdir(os.path.join(et.io.HOME, 'earth-analytics'))"
   ]
  },
  {
   "cell_type": "markdown",
   "metadata": {},
   "source": [
    "To begin, load a shapefile using geopandas."
   ]
  },
  {
   "cell_type": "code",
   "execution_count": null,
   "metadata": {},
   "outputs": [],
   "source": [
    "# Import world boundary shapefile\n",
    "worldBound_path = os.path.join(\"data\", \"spatial-vector-lidar\", \"global\", \n",
    "                               \"ne_110m_land\", \"ne_110m_land.shp\")\n",
    "worldBound = gpd.read_file(worldBound_path)"
   ]
  },
  {
   "cell_type": "markdown",
   "metadata": {},
   "source": [
    "### Plot the Data"
   ]
  },
  {
   "cell_type": "code",
   "execution_count": null,
   "metadata": {},
   "outputs": [],
   "source": [
    "# Plot worldBound data using geopandas\n",
    "fig, ax = plt.subplots(figsize=(10, 5))\n",
    "worldBound.plot(color='darkgrey', \n",
    "                ax=ax)\n",
    "# Set the x and y axis labels\n",
    "ax.set(xlabel=\"Longitude (Degrees)\",\n",
    "       ylabel=\"Latitude (Degrees)\",\n",
    "       title=\"Global Map - Geographic Coordinate System - WGS84 Datum\\n Units: Degrees - Latitude / Longitude\")\n",
    "\n",
    "# Add the x y graticules\n",
    "ax.set_axisbelow(True)\n",
    "ax.yaxis.grid(color='gray', \n",
    "              linestyle='dashed')\n",
    "ax.xaxis.grid(color='gray', \n",
    "              linestyle='dashed')"
   ]
  },
  {
   "cell_type": "markdown",
   "metadata": {},
   "source": [
    "### Create Spatial Points Object\n",
    "Next, add three coordinate locations to your map. Note that the UNITS are in decimal degrees (latitude, longitude):\n",
    "\n",
    "Boulder, Colorado: 40.0274, -105.2519\n",
    "Oslo, Norway: 59.9500, 10.7500\n",
    "Mallorca, Spain: 39.6167, 2.9833\n",
    "\n",
    "To plot these points spatially you will: \n",
    "1) Create a numpy array of the point locations and \n",
    "2) Use a for loop to populate a shapely Point object\n",
    "\n",
    "### Wait! What the heck is a \"for loop\"?!?!\n",
    "A for loop is a handy way to iterate over objects. Learn more here: https://www.earthdatascience.org/courses/intro-to-earth-data-science/write-efficient-python-code/loops/\n"
   ]
  },
  {
   "cell_type": "code",
   "execution_count": null,
   "metadata": {},
   "outputs": [],
   "source": [
    "# Create numpy array of x,y point locations\n",
    "add_points = np.array([[-105.2519,   40.0274], \n",
    "                       [  10.75  ,   59.95  ], \n",
    "                       [   2.9833,   39.6167]])\n",
    "\n",
    "# Turn points into list of x,y shapely points \n",
    "city_locations = [Point(xy) for xy in add_points]\n",
    "city_locations"
   ]
  },
  {
   "cell_type": "code",
   "execution_count": null,
   "metadata": {},
   "outputs": [],
   "source": [
    "# Create geodataframe using the points\n",
    "city_locations = gpd.GeoDataFrame(city_locations, \n",
    "                                  columns=['geometry'],\n",
    "                                  crs=worldBound.crs)\n",
    "city_locations.head(3)"
   ]
  },
  {
   "cell_type": "markdown",
   "metadata": {},
   "source": [
    "### Finally you can plot the points on top of your world map. Does it look right?"
   ]
  },
  {
   "cell_type": "code",
   "execution_count": null,
   "metadata": {},
   "outputs": [],
   "source": [
    "# Plot point locations\n",
    "fig, ax = plt.subplots(figsize=(12, 8))\n",
    "\n",
    "worldBound.plot(figsize=(10, 5), color='k',\n",
    "               ax=ax)\n",
    "# Add city locations\n",
    "city_locations.plot(ax=ax, \n",
    "                    color='springgreen', \n",
    "                    marker='*',\n",
    "                    markersize=45)\n",
    "\n",
    "# Setup x y axes with labels and add graticules\n",
    "ax.set(xlabel=\"Longitude (Degrees)\", ylabel=\"Latitude (Degrees)\",\n",
    "       title=\"Global Map - Geographic Coordinate System - WGS84 Datum\\n Units: Degrees - Latitude / Longitude\")\n",
    "ax.set_axisbelow(True)\n",
    "ax.yaxis.grid(color='gray', linestyle='dashed')\n",
    "ax.xaxis.grid(color='gray', linestyle='dashed')"
   ]
  },
  {
   "cell_type": "markdown",
   "metadata": {},
   "source": [
    "### Next, import proper graticules that can be projected into a particular coordinate reference system.\n",
    "graticule (noun): a network of lines representing meridians and parallels, on which a map or plan can be represented"
   ]
  },
  {
   "cell_type": "code",
   "execution_count": null,
   "metadata": {},
   "outputs": [],
   "source": [
    "# Import graticule & world bounding box shapefile data\n",
    "graticule_path = os.path.join(\"data\", \"spatial-vector-lidar\", \"global\", \n",
    "                              \"ne_110m_graticules_all\", \"ne_110m_graticules_15.shp\")\n",
    "graticule = gpd.read_file(graticule_path)\n",
    "\n",
    "bbox_path = os.path.join(\"data\", \"spatial-vector-lidar\", \"global\", \n",
    "                         \"ne_110m_graticules_all\", \"ne_110m_wgs84_bounding_box.shp\")\n",
    "bbox = gpd.read_file(bbox_path)\n",
    "\n",
    "# Create map axis object\n",
    "fig, ax = plt.subplots(1, 1, figsize=(15, 8))\n",
    "\n",
    "# Add bounding box and graticule layers\n",
    "bbox.plot(ax=ax, alpha=.1, color='grey')\n",
    "graticule.plot(ax=ax, color='lightgrey')\n",
    "worldBound.plot(ax=ax, color='black')\n",
    "\n",
    "# Add points to plot \n",
    "city_locations.plot(ax=ax, \n",
    "                    markersize=60, \n",
    "                    color='springgreen',\n",
    "                    marker='*')\n",
    "# Add title and axes labels\n",
    "ax.set(title=\"World Map - Geographic Coordinate Reference System (long/lat degrees)\",\n",
    "       xlabel=\"X Coordinates (meters)\",\n",
    "       ylabel=\"Y Coordinates (meters)\");"
   ]
  },
  {
   "cell_type": "markdown",
   "metadata": {},
   "source": [
    "### Projected CRS - Robinson\n",
    "You can view the same data above, in another CRS - Robinson. Robinson is a projected CRS. Notice that the country boundaries on the map - have a different shape compared to the map that you created above in the CRS: Geographic lat/long WGS84.\n",
    "\n",
    "Below you first reproject your data into the robinson projects (+proj=robin). Then you plot the data once again."
   ]
  },
  {
   "cell_type": "code",
   "execution_count": null,
   "metadata": {},
   "outputs": [],
   "source": [
    "# Reproject the data\n",
    "worldBound_robin = worldBound.to_crs('+proj=robin')\n",
    "graticule_robin = graticule.to_crs('+proj=robin')\n",
    "\n",
    "# Plot the data\n",
    "fig, ax = plt.subplots(figsize=(12, 8))\n",
    "\n",
    "worldBound_robin.plot(ax=ax,\n",
    "                      color='k')\n",
    "\n",
    "graticule_robin.plot(ax=ax, color='lightgrey')\n",
    "\n",
    "ax.set(title=\"World Map: Robinson Coordinate Reference System\",\n",
    "       xlabel=\"X Coordinates (meters)\",\n",
    "       ylabel=\"Y Coordinates (meters)\")\n",
    "\n",
    "for axis in [ax.xaxis, ax.yaxis]:\n",
    "    formatter = ScalarFormatter()\n",
    "    formatter.set_scientific(False)\n",
    "    axis.set_major_formatter(formatter)"
   ]
  },
  {
   "cell_type": "markdown",
   "metadata": {},
   "source": [
    "## TASK 1:\n",
    "### What happens if you add the same Lat / Long coordinate locations that you used above, to your map? Remember that the data on your map are in the CRS - Robinson."
   ]
  },
  {
   "cell_type": "code",
   "execution_count": null,
   "metadata": {},
   "outputs": [],
   "source": [
    "#Enter code to replot your projected map with the same lat/lon coordinates you created early here\n",
    "# Import graticule & world bounding box shapefile data\n",
    "graticule_path = os.path.join(\"data\", \"spatial-vector-lidar\", \"global\", \n",
    "                              \"ne_110m_graticules_all\", \"ne_110m_graticules_15.shp\")\n",
    "graticule = gpd.read_file(graticule_path)\n",
    "\n",
    "bbox_path = os.path.join(\"data\", \"spatial-vector-lidar\", \"global\", \n",
    "                         \"ne_110m_graticules_all\", \"ne_110m_wgs84_bounding_box.shp\")\n",
    "bbox = gpd.read_file(bbox_path)\n",
    "\n",
    "# Create map axis object\n",
    "fig, ax = plt.subplots(figsize=(12, 8))\n",
    "\n",
    "worldBound_robin.plot(ax=ax,\n",
    "                      color='k')\n",
    "\n",
    "graticule_robin.plot(ax=ax, color='lightgrey')\n",
    "\n",
    "ax.set(title=\"World Map: Robinson Coordinate Reference System\",\n",
    "       xlabel=\"X Coordinates (meters)\",\n",
    "       ylabel=\"Y Coordinates (meters)\")\n",
    "\n",
    "# Add bounding box and graticule layers\n",
    "bbox.plot(ax=ax, alpha=.1, color='grey')\n",
    "graticule_robin.plot(ax=ax, color='lightgrey')\n",
    "worldBound_robin.plot(ax=ax, color='black')\n",
    "\n",
    "# Add points to plot \n",
    "city_locations.plot(ax=ax, \n",
    "                    markersize=60, \n",
    "                    color='springgreen',\n",
    "                    marker='*')\n",
    "# Add title and axes labels\n",
    "ax.set(title=\"World Map - Geographic Coordinate Reference System (long/lat degrees)\",\n",
    "       xlabel=\"X Coordinates (meters)\",\n",
    "       ylabel=\"Y Coordinates (meters)\");"
   ]
  },
  {
   "cell_type": "markdown",
   "metadata": {},
   "source": [
    "### Notice above that when you try to add lat/long coordinates in degrees, to a map in a different CRS, the points are not in the correct location. You need to first convert the points to the same CRS that your other data are in. The process of converting a dataset from one CRS to another is often referred to as reprojection.\n",
    "\n",
    "In python, you use the .to_crs method to reproject your data."
   ]
  },
  {
   "cell_type": "code",
   "execution_count": null,
   "metadata": {},
   "outputs": [],
   "source": [
    "# Reproject point locations to the Robinson projection\n",
    "city_locations_robin = city_locations.to_crs(worldBound_robin.crs)\n",
    "\n",
    "fig, ax = plt.subplots(1, 1, figsize=(12, 8))\n",
    "worldBound_robin.plot(ax=ax, \n",
    "                      cmap='Greys')\n",
    "ax.set(title=\"World map (robinson)\", \n",
    "       xlabel=\"X Coordinates (meters)\",\n",
    "       ylabel=\"Y Coordinates (meters)\")\n",
    "city_locations_robin.plot(ax=ax, markersize=100, color='springgreen')\n",
    "\n",
    "for axis in [ax.xaxis, ax.yaxis]:\n",
    "    formatter = ScalarFormatter()\n",
    "    formatter.set_scientific(False)\n",
    "    axis.set_major_formatter(formatter)\n",
    "\n",
    "plt.axis('equal');"
   ]
  },
  {
   "cell_type": "markdown",
   "metadata": {},
   "source": [
    "### The Structure of a Geographic CRS\n",
    "A geographic CRS uses a grid that wraps around the entire globe. This means that each point on the globe is defined using the SAME coordinate system and the same units as defined within that particular geographic CRS. Geographic coordinate reference systems are best for global analysis however it is important to remember that distance is distorted using a geographic lat / long CRS.\n",
    "\n",
    "The geographic WGS84 lat/long CRS has an origin - (0,0) - located at the intersection of the Equator (0° latitude) and Prime Meridian (0° longitude) on the globe.\n",
    "\n",
    "You will review what data projected in a geographic CRS look like."
   ]
  },
  {
   "cell_type": "code",
   "execution_count": null,
   "metadata": {},
   "outputs": [],
   "source": [
    "# Set working dir & get data\n",
    "data = et.data.get_data('spatial-vector-lidar')\n",
    "os.chdir(os.path.join(et.io.HOME, 'earth-analytics'))"
   ]
  },
  {
   "cell_type": "markdown",
   "metadata": {},
   "source": [
    "### Projected Coordinate Reference Systems\n",
    "As you learned above, geographic coordinate systems are ideal for creating global maps. However, they are prone to error when quantifying distance. In contrast, various spatial projections have evolved that can be used to more accurately capture distance, shape and/or area.\n",
    "\n",
    "#### What is a Spatial Projection\n",
    "Spatial projection refers to the mathematical calculations performed to flatten the 3D data onto a 2D plane (your computer screen or a paper map). Projecting data from a round surface onto a flat surface, results in visual modifications to the data when plotted on a map. Some areas are stretched and some are compressed. You can see this distortion when you look at a map of the entire globe.\n",
    "\n",
    "The mathematical calculations used in spatial projections are designed to optimize the relative size and shape of a particular region on the globe.\n",
    "\n",
    "#### About UTM\n",
    "The Universal Transverse Mercator (UTM) system is a commonly used projected coordinate reference system. UTM subdivides the globe into zones, numbered 0-60 (equivalent to longitude) and regions (north and south).\n",
    "While UTM zones span the entire globe, UTM uses a regional projection and associated coordinate system. The coordinate system grid for each zone is projected individually using the Mercator projection.\n",
    "\n",
    "The origin (0,0) for each UTM zone and associated region is located at the intersection of the equator and a location, 500,000 meters east of the central meridian of each zone. The origin location is placed outside of the boundary of the UTM zone, to avoid negative Easting numbers.\n",
    "\n",
    "#### Understand UTM Coordinates\n",
    "Compare coordinates for one location, but saved in two different CRSs to better understand what this looks like. The coordinates for Boulder, Colorado in UTM are:\n",
    "\n",
    "UTM Zone 13N easting: 476,911.31m, northing: 4,429,455.35\n",
    "\n",
    "Remember that N denotes that it is in the Northern hemisphere on the Earth.\n",
    "\n",
    "Plot this coordinate on a map."
   ]
  },
  {
   "cell_type": "code",
   "execution_count": null,
   "metadata": {},
   "outputs": [],
   "source": [
    "boulder_df = np.array([[476911.31,  4429455.35]])\n",
    "geometry = [Point(xy) for xy in boulder_df]\n",
    "\n",
    "boulder_loc = gpd.GeoDataFrame(geometry,\n",
    "                               columns=['geometry'],\n",
    "                               crs={'init': 'epsg:2957'})"
   ]
  },
  {
   "cell_type": "code",
   "execution_count": null,
   "metadata": {},
   "outputs": [],
   "source": [
    "fig, ax = plt.subplots(figsize=(10, 5))\n",
    "\n",
    "worldBound.plot(cmap='Greys',\n",
    "                ax=ax)\n",
    "\n",
    "ax.set(title=\"World map with Boulder, CO location \\n Geographic EPSG CRS\",\n",
    "       xlabel=\"X Coordinates (Decimal Degrees)\",\n",
    "       ylabel=\"Y Coordinates (Decimal Degrees)\")\n",
    "\n",
    "boulder_loc.plot(ax=ax,\n",
    "                     markersize=52,\n",
    "                     color='springgreen')\n",
    "plt.show()"
   ]
  },
  {
   "cell_type": "code",
   "execution_count": null,
   "metadata": {},
   "outputs": [],
   "source": [
    "# View crs\n",
    "boulder_loc.crs"
   ]
  },
  {
   "cell_type": "markdown",
   "metadata": {},
   "source": [
    "Note the projection of your data in UTM is EPSG code 2957\n",
    "\n",
    "If you spatially project your data into a geographic coordinate refence system, notice how your new coordinates are different - yet they still represent the same location.\n",
    "\n",
    "Note: EPSG is a standardized library of all geographic coordinate systems. Learn more here: https://spatialreference.org/"
   ]
  },
  {
   "cell_type": "code",
   "execution_count": null,
   "metadata": {},
   "outputs": [],
   "source": [
    "# Reproject the data to WGS84\n",
    "boulder_df_geog = boulder_loc.to_crs(epsg=4326)\n",
    "boulder_df_geog.crs"
   ]
  },
  {
   "cell_type": "code",
   "execution_count": null,
   "metadata": {},
   "outputs": [],
   "source": [
    "# View the coordinate values of the newly reprojected data.\n",
    "boulder_df_geog"
   ]
  },
  {
   "cell_type": "markdown",
   "metadata": {},
   "source": [
    "### Now you can plot your data on top of your world map which is also in a geographic CRS."
   ]
  },
  {
   "cell_type": "code",
   "execution_count": null,
   "metadata": {},
   "outputs": [],
   "source": [
    "fig, ax = plt.subplots(figsize=(10, 5))\n",
    "\n",
    "worldBound.plot(cmap='Greys',\n",
    "                ax=ax)\n",
    "\n",
    "ax.set(title=\"World map with Boulder, CO location \\n Geographic WGS84 CRS\",\n",
    "       xlabel=\"X Coordinates (Decimal Degrees)\",\n",
    "       ylabel=\"Y Coordinates (Decimal Degrees)\")\n",
    "\n",
    "boulder_df_geog.plot(ax=ax,\n",
    "                     markersize=52,\n",
    "                     color='springgreen')\n",
    "plt.show()"
   ]
  },
  {
   "cell_type": "markdown",
   "metadata": {},
   "source": []
  }
 ],
 "metadata": {
  "kernelspec": {
   "display_name": "geostats_env",
   "language": "python",
   "name": "geostats_env"
  },
  "language_info": {
   "codemirror_mode": {
    "name": "ipython",
    "version": 3
   },
   "file_extension": ".py",
   "mimetype": "text/x-python",
   "name": "python",
   "nbconvert_exporter": "python",
   "pygments_lexer": "ipython3",
   "version": "3.7.11"
  }
 },
 "nbformat": 4,
 "nbformat_minor": 4
}
